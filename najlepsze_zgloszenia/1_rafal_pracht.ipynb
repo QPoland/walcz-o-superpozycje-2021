{
 "cells": [
  {
   "cell_type": "markdown",
   "id": "56393e81",
   "metadata": {},
   "source": [
    "MIT License\n",
    "\n",
    "Copyright (c) 2021 Rafał Pracht\n",
    "\n",
    "Permission is hereby granted, free of charge, to any person obtaining a copy\n",
    "of this software and associated documentation files (the \"Software\"), to deal\n",
    "in the Software without restriction, including without limitation the rights\n",
    "to use, copy, modify, merge, publish, distribute, sublicense, and/or sell\n",
    "copies of the Software, and to permit persons to whom the Software is\n",
    "furnished to do so, subject to the following conditions:\n",
    "\n",
    "The above copyright notice and this permission notice shall be included in all\n",
    "copies or substantial portions of the Software.\n",
    "\n",
    "THE SOFTWARE IS PROVIDED \"AS IS\", WITHOUT WARRANTY OF ANY KIND, EXPRESS OR\n",
    "IMPLIED, INCLUDING BUT NOT LIMITED TO THE WARRANTIES OF MERCHANTABILITY,\n",
    "FITNESS FOR A PARTICULAR PURPOSE AND NONINFRINGEMENT. IN NO EVENT SHALL THE\n",
    "AUTHORS OR COPYRIGHT HOLDERS BE LIABLE FOR ANY CLAIM, DAMAGES OR OTHER\n",
    "LIABILITY, WHETHER IN AN ACTION OF CONTRACT, TORT OR OTHERWISE, ARISING FROM,\n",
    "OUT OF OR IN CONNECTION WITH THE SOFTWARE OR THE USE OR OTHER DEALINGS IN THE\n",
    "SOFTWARE."
   ]
  },
  {
   "cell_type": "markdown",
   "id": "68664705",
   "metadata": {},
   "source": [
    "## Zadanie konkursowe\n",
    "\n",
    "W ramach finałowego zadania należy znaleźć możliwe lokalizacje nadajników dla poniższej mapy stacji meteorologicznych. Pamiętaj, że stacja może przesyłać dane najdalej do nadajnika przy stacji, z którą sąsiaduje.\n",
    "\n",
    "<img src=\"graphics/task4.png\" width=400/>\n",
    "\n",
    "Skądinąd wiemy, że wystarczy ustawić dokładnie trzy nadajniki, co więcej, minimum trzy nadajniki są potrzebne do rozwiązania problemu.\n",
    "\n",
    "**Rozwiązanie musi spełniać szereg reguł**:\n",
    "\n",
    "* Skonstruowany obwód nie może składać się z więcej niż 26 kubitów.\n",
    "* Należy użyć algorytmu Grovera, który poznaliście w zadaniu drugim, z trzema iteracjami.\n",
    "* Wynik pomiaru $1$ oznacza, że wierzchołek należy do zbioru dominującego, a wynik $0$, że nie należy.\n",
    "* Zastosuj jedynie jeden 9-bitowy klasyczny rejestr `c`, w którym są zapisywane wyniki pomiaru. W tym celu możecie korzystać z wzorca poniżej.\n",
    "* __Uwaga: można skorzystać z informacji, że szukamy położenia trzech nadajników, jednak jest to jedyna informacja dotycząca rozwiązania, z której można skorzystać__. W szczególności nie można implementować wyroczni poprzez wcześniejsze znalezienie rozwiązania klasycznymi metodami. **Pomocnicze pytania:** Czy algorytm który skonstruowałem/am będzie działał dla dowolnego grafu nieskierowanego, jeśli będę znał/a rozmiar zbioru dominującego (powinno być: **tak**)? Czy korzystam z jakichś nietypowych cech grafu (jest nieregularny, niedwudzielny itp.) (powinno być: **nie**)? Czy korzystam z wiedzy jakie jest rozwiązanie (powinno być: **nie**)? \n",
    "* Obwód kwantowy może składać się jedynie z dostępnych w Qiskit bramek kwantowych (`x`, `ccx`, `mct`, `z`, `u3`, etc.) oraz pomiarów. Nie można korzystać z operacji nie będących bramkami, typu `reset`, `c_if`, itp, oraz bramki `unitary`. Jeśli masz wątpliwości co do użytej bramki - zapytaj mentorów.\n",
    "* Nie można korzystać z optymalizatorów do obwodów kwantowych opartych na uczeniu maszynowych bądź heurystycznych innych niż `transpile` użyty poniżej. W `transpile` poniżej nie można zmieniać argumentów.\n",
    "* **Jako rozwiązanie należy wysłać plik `zadanie_4.json` wygenerowany przez `create_submission` oraz plik `zadanie_4.ipynb` wraz z odpowiednimi komentarzami opisującymi kroki algorytmu.**\n"
   ]
  },
  {
   "cell_type": "code",
   "execution_count": 1,
   "id": "380dec2c",
   "metadata": {},
   "outputs": [],
   "source": [
    "from qiskit import *\n",
    "from qiskit.providers.aer import QasmSimulator\n",
    "from qiskit.transpiler import PassManager\n",
    "from qiskit.transpiler.passes import Unroller\n",
    "from bnp_challenge_verifier import grade_circuit, verify_solution4, create_submission\n",
    "pass_ = Unroller(['u3', 'cx'])\n",
    "pm = PassManager(pass_) "
   ]
  },
  {
   "cell_type": "markdown",
   "id": "85371782",
   "metadata": {},
   "source": [
    "## Opis rozwiązanie zadania.\n",
    "\n",
    "**Ogólna koncepcja**:\n",
    "\n",
    "Implementacja wyroczni składa się z dwóch sumatorów:\n",
    "* Jeden zlicza liczbe oznaczonych wierzchołków.\n",
    "* Drugi zlicza liczbe porawnych wierzchołków. Tzn. wierzchołków oznaczonych lub mających za sąsiada wierzchołek oznaczony.\n",
    "Wiemy że liczba oznaczonych wierzchołków wynosi 3 a liczba poprawnych ma wynieść 9, wiedza ta pozwala nam na sprawdzenie czy dane rozwiązanie jest poprawne.\n",
    "\n",
    "**Ogólna opytmalizacja**:\n",
    "\n",
    "Wszędzie gdzie się dało bramki ccx, mcx zostały zamienione na ich odpowiedniki rccx które działają tak samo z dokładnością do globalnej fazy (wszędzie tam gdzie operacje ccx będą odwracane można spokojnie skorzystać z rcx).\n",
    "\n",
    "Pozwoliło to na zbudowanie ukłądu o koszcie około 29 000.\n",
    "\n",
    "**Opytmalizacja pod problem**:\n",
    "\n",
    "Zastosowana poniżej opisana optymalizacja pozwoliła na uzyskanie finalnego wyniku, ale sprawia że kod zadziała tylko dla grafu o 3 rozwiązaniach i 9 wierzchołków (co jest zgodnie z treścią zadania).\n",
    "\n",
    "* Dla sumowania do 9 potrzebny jest sumator 4 bitowy. Jednakże jeżeli szukamy sumy równej 0011 i jednocześnie wiemy że nie ma wartości powyżej 1001 to możemy ograniczyć się jedynie do 3 bitów, i sumować modulo 8. Pozwala to na wykorzystanie sumatora 3 bitowego zamiast 4 bitowego o mniejszym koście oraz z wykorzystaniem 1 qubitu mniej co pozwoli z koleji na nie odwracanie \"jednej\" dodatkowej operacji.\n",
    "* Drugi sumator też może być 3 bitowy, wynika to z faktu iż 9%8 to 001 a pierwszy sumator zapewnia nam ze jest co najmniej 3 oznaczone wierzchołki, co oznacze ze jak suma wynosi 001 to jest 9%8 a nie po prostu 1. \n",
    "* Ponadto w sumatorach możemy zignorować dla ostatniego 9 bitu całą operacjie z przeniesieniem i skorzystać tylko z bramki cx.\n",
    "\n",
    "**Opytmalizacja sumatorów**:\n",
    "\n",
    "Ponieważ celem wykorzystywanych sumatorów jest zliczanie a nie sumowanie dwóch licz binarnych, możemy skorzystać z kwantowych odpowiedników dzielników częstotliwości a nie kalsycznych sumatorów, pozwala nam to na dodatkowe ograniczenie kosztu (poprzez brak rejestrów carry oraz mniejszy koszt sumatora)."
   ]
  },
  {
   "cell_type": "markdown",
   "id": "314ffb58",
   "metadata": {},
   "source": [
    "**Graf**\n",
    "\n",
    "Poniżej z krawędzi grafu buduję mape wierzchołków."
   ]
  },
  {
   "cell_type": "code",
   "execution_count": 2,
   "id": "0e0a1969",
   "metadata": {},
   "outputs": [],
   "source": [
    "# krawędzie w grafie\n",
    "edges = [[0, 1], [1, 7], [7, 6], [6, 0], [2, 3], [3, 8], [8, 7], [7, 2], [4, 5], [5, 6], [6, 8], [8, 4]]"
   ]
  },
  {
   "cell_type": "code",
   "execution_count": 3,
   "id": "b6c8aa67",
   "metadata": {},
   "outputs": [],
   "source": [
    "# budujemy mape wierzchołkow\n",
    "connections = {}\n",
    "for e1, e2 in edges:\n",
    "    s = connections.setdefault(e1, set())\n",
    "    s.add(e2)\n",
    "    s = connections.setdefault(e2, set())\n",
    "    s.add(e1)\n",
    "# dodajemy pusty set jak wierzchołek nie ma krawędzi\n",
    "for i in range(9):\n",
    "    connections.setdefault(i, set())"
   ]
  },
  {
   "cell_type": "markdown",
   "id": "70655d2d",
   "metadata": {},
   "source": [
    "**Flaga**\n",
    "\n",
    "Jej znaczenie zostanie opisane dlalej. Ustawienie jej na true da nam rozwiązanie akceptowalne dla gradera o koszcie 14445 i działające dla **Większości** grafuów. Ponadto problem dotyczy tylko wysp o dokładnie 3 wierzchołkach, które można bardzo prosto znaleść raz przechodząc mape connections i w zależności od grafu wykorzystać jedną bądź drugą scieżke. Co oznacza że punkt \"Czy algorytm który skonstruowałem/am będzie działał dla dowolnego grafu nieskierowanego\" był by spełniony. Nie jestem jednak pewien czy rozwiązanie takie było by zakceptowane, dlatego nie korzystam z tej optymalizacji.\n",
    "\n",
    "**W rozwiązaniu przesłanym do oceny jest ona ustawiona na flase**"
   ]
  },
  {
   "cell_type": "code",
   "execution_count": 4,
   "id": "ab2e8f3e",
   "metadata": {},
   "outputs": [],
   "source": [
    "#wrong_solution = True\n",
    "wrong_solution = False"
   ]
  },
  {
   "cell_type": "code",
   "execution_count": 5,
   "id": "810d540e",
   "metadata": {},
   "outputs": [],
   "source": [
    "qgrover = QuantumRegister(9, 'nodes')\n",
    "qReg = qgrover\n",
    "cgrover = ClassicalRegister(9)\n",
    "####\n",
    "qAnc = QuantumRegister(17, 'ancilla')  # 17\n",
    "\n",
    "# Count and Dominating\n",
    "if wrong_solution:\n",
    "    qSum = qAnc[:3]\n",
    "    qDominatingSum = qAnc[3:6]\n",
    "    qNodeCheck = qAnc[6:15]\n",
    "    qDominatingCountAnc = qAnc[16:]\n",
    "    qPhaseAnc = qAnc[15:]\n",
    "else:\n",
    "    qSum = qAnc[:3]\n",
    "    qDominatingSum = qAnc[3:6]\n",
    "    qNodeCheck = qAnc[6:14]\n",
    "    qDominatingCountAnc = qAnc[15:]\n",
    "    qPhaseAnc = qAnc[14:]\n",
    "\n",
    "####\n",
    "qcirc = QuantumCircuit(qgrover, cgrover, qAnc)"
   ]
  },
  {
   "cell_type": "markdown",
   "id": "81a4526c",
   "metadata": {},
   "source": [
    "**Sumator 3 bitowy - zliczający liczbę oznaczonych/poprawnych wierzchołków w zadaniu**"
   ]
  },
  {
   "cell_type": "code",
   "execution_count": 6,
   "id": "445e8105",
   "metadata": {},
   "outputs": [],
   "source": [
    "def sum3bits(qc, i, toAdd, qSum):\n",
    "    if i == 0:\n",
    "        qc.cx(toAdd, qSum[0])\n",
    "    elif i < 3:\n",
    "        qc.rccx(toAdd, qSum[0], qSum[1])\n",
    "        qc.cx(toAdd, qSum[0])\n",
    "    elif i < 8:\n",
    "        qc.rcccx(toAdd, qSum[0], qSum[1], qSum[2])\n",
    "        qc.rccx(toAdd, qSum[0], qSum[1])\n",
    "        qc.cx(toAdd, qSum[0])\n",
    "    else:\n",
    "        # mamy tylko 9 wierzcholkow wiec tu wystarczy tylko flip\n",
    "        # tzn, suma oznaczonych wierzcholkow moze byc bledna, ale na pewno nie bedzie wynosila 3 jak\n",
    "        # nie jest to prawda\n",
    "        qc.cx(toAdd, qSum[0])"
   ]
  },
  {
   "cell_type": "markdown",
   "id": "a53a6b78",
   "metadata": {},
   "source": [
    "**Wykorzystanie sumatora do sprawdzenia czy mamy tylko 3 oznaczone wierzchołki**"
   ]
  },
  {
   "cell_type": "code",
   "execution_count": 7,
   "id": "7608d1e6",
   "metadata": {},
   "outputs": [],
   "source": [
    "def create_count_circuit(qReg, qSum):\n",
    "    qc = QuantumCircuit(qReg, qSum)\n",
    "\n",
    "    for i in range(len(qReg)):\n",
    "        sum3bits(qc, i, qReg[i], qSum)\n",
    "    return qc"
   ]
  },
  {
   "cell_type": "markdown",
   "id": "a1b9825a",
   "metadata": {},
   "source": [
    "**Nowa bramki**\n",
    "\n",
    "Bramki rccccx i rcccccx są analogiczne jak rcccx ale obsługuje większą liczbę qbitów kontrolnych."
   ]
  },
  {
   "cell_type": "code",
   "execution_count": 8,
   "id": "27f47e4b",
   "metadata": {},
   "outputs": [],
   "source": [
    "def rcccccx(self, c0, c1, c2, c3, c4, t, a0):\n",
    "    self.rcccx(c0, c1, c2, a0)\n",
    "    self.rcccx(a0, c3, c4, t)\n",
    "    self.rcccx(c0, c1, c2, a0)\n",
    "    \n",
    "QuantumCircuit.rcccccx = rcccccx"
   ]
  },
  {
   "cell_type": "code",
   "execution_count": 9,
   "id": "1d1febaa",
   "metadata": {},
   "outputs": [],
   "source": [
    "def rccccx(self, c0, c1, c2, c3, t, a0):\n",
    "    self.rccx(c0, c1, a0)\n",
    "    self.rcccx(a0, c2, c3, t)\n",
    "    self.rccx(c0, c1, a0)\n",
    "    \n",
    "QuantumCircuit.rccccx = rccccx"
   ]
  },
  {
   "cell_type": "markdown",
   "id": "05e37407",
   "metadata": {},
   "source": [
    "**Sumator zliczający liczbę poprawnych wierzchołków.**\n",
    "\n",
    "Algorytm dziła nasępująco:\n",
    "* W pierwszym etapie na podstawie listy wierzchołków przygotowana jest mapa, mapująca index wierzchołka na zbór jego sąsiadów.\n",
    "* Nasępnie, przechodzimy przeż wszystkie wierzchołki.\n",
    "    * Sprawdzamy czy wierzchołek jest poprawny (czyli czy wszyscy jego sąsiedzi i on sam nie są ustawioni na 0)\n",
    "    * Sprawdzenie może być ogólne poprzez bramkę mcx, ale w naszym grafie zawsze dokonujemy tego o przypadki szczególne rcccx i rcccccx. Zastosowanie rcccx zamiast mcx nie ma wpływu na algorymt a jedynie na jego koszt.\n",
    "    * Dodajemy uzyskane sprawdzenie do sumatora (rozwiązanie poprawne ma wartość sumy równą 9%8, czyli wszystkie wierzchołki)\n",
    "    * Ponieważ wiemy że nie ma więcej niż 9 wierzchołków, dla ostatniego bitu wykorzystujemy bramke cx zamiast sumatora z przeniesieniem.\n",
    "    * Tablica qNodeCheck przechowuje wierzchołki które mogą pozostać _brudne_ po zakończeniu obliczeń. Dzięki temu oszczędzamy na odwracaniu niektórych operacji.\n",
    "    * Przed przystąpień do sprawdzenia, szukamy czy w grafie nie wystepuja 3 sąsiednie wierzchołki. Ponieważ wierzchołek jest poprawny jak nie jest parwdą iż on i wszyscy jego sasiedzi są zerami więc to sprawdzenie jest wykonywane dla wszystkich sonsiednich wierzchołków. Jezeli mamy zbór 3 wierzchołków które są są siadami to możemy sprawdzenie dla nich wykonać tylko raz, a póżniej robić tylko sprawdzenia dla pozostałych wierzchołków. **UWAGA** zastosowanie sprawdzenia nie ma wpływu na znalezienie rozwiązania, tzn graf może nie mieć takich sonsiadów i poprawnie rozwiązanie zostanie znależione, jedynym skutkiem bedzie nie skorzystanie z możliwości optymalizacji. Można wyłaczyć optymalizacje ustawiając flage disable_cycle_opt = True daje to koszzt 16638 (przy rozwiazaniu ogólnym)."
   ]
  },
  {
   "cell_type": "code",
   "execution_count": 10,
   "id": "a13483f6",
   "metadata": {},
   "outputs": [],
   "source": [
    "disable_cycle_opt = False\n",
    "#disable_cycle_opt = True"
   ]
  },
  {
   "cell_type": "code",
   "execution_count": 11,
   "id": "bfbb53fe",
   "metadata": {},
   "outputs": [],
   "source": [
    "def create_dominating_circuit_sum(edges, qReg, qSum, qNodeCheck, qAnc):\n",
    "    qc = QuantumCircuit(qReg, qSum, qNodeCheck, qAnc)\n",
    "        \n",
    "    # znajdujem cykle 3 elemetow, dzieki temo bedziemy mogli policzyc je raz a nie dla kazdego wierzcholka osobno\n",
    "    cycles = set()\n",
    "    for i in range(len(qReg)):\n",
    "        for j in range(len(qReg)):\n",
    "            if i != j:\n",
    "                s1 = set(list(connections[i]) + [i])\n",
    "                s2 = set(list(connections[j]) + [j])\n",
    "                inter = s1.intersection(s2)\n",
    "                if len(inter) == 3:\n",
    "                    # tylko dla 3 mozemy cokolwiek ugrac\n",
    "                    cycles.add(frozenset(inter))        \n",
    "        \n",
    "    qc.x(qReg)\n",
    "    # to ma wplyw tylko na mniejszy koszt, powinnismy isc to petelka bo cycles moze mniec wiecej niz jeden element\n",
    "    # ale to by skaplikowalo kod ponizej a w naszym problemie jest dokladnie jeden, wiec ograniczamy potecjalny\n",
    "    # zysk z optymalizacji dla innych grafów gdzie tych cykli jest wiecej. Jednak nie ma to wplywu na to ze sam\n",
    "    # algorytm zadziala.\n",
    "    ancIdx = 0\n",
    "    cycle = []\n",
    "#     for c in cycles:\n",
    "#         print(c)\n",
    "#         qc.rcccx(qReg[c[0]], qReg[c[1]], qReg[c[2]], qAnc[ancIdx])\n",
    "#         ancIdx = ancIdx + 1\n",
    "    if not disable_cycle_opt and len(cycles) > 0:\n",
    "        cycle = list(list(cycles)[0])\n",
    "        qc.rcccx(qReg[cycle[0]], qReg[cycle[1]], qReg[cycle[2]], qAnc[0])\n",
    "        ancIdx = 1\n",
    "    \n",
    "    for i in range(len(qReg)):\n",
    "        # chieck if node is ok\n",
    "        control = set(list(connections[i]) + [i])\n",
    "        diff = control.difference(cycle)\n",
    "        if not disable_cycle_opt and len(diff) + len(cycle) == len(control):\n",
    "            control = [qReg[c] for c in diff] + [qAnc[0]]\n",
    "        else:\n",
    "            control = [qReg[c] for c in control]\n",
    "       \n",
    "        idx = i -(len(qReg) - len(qNodeCheck))\n",
    "        if idx >= 0:\n",
    "            iNode = idx\n",
    "        else:\n",
    "            iNode = 0\n",
    "        \n",
    "        if len(control) == 3:\n",
    "            qc.rcccx(control[0], control[1], control[2], qNodeCheck[iNode])\n",
    "        elif len(control) == 5:\n",
    "            qc.rcccccx(control[0], control[1], control[2], control[3], control[4], \n",
    "                      qNodeCheck[iNode],\n",
    "                      qAnc[ancIdx])\n",
    "        else:\n",
    "            print(\"WARNING: the not optimal solution!\")\n",
    "            qc.mcx(control, qNodeCheck[iNode], qAnc, mode='basic')\n",
    "        qc.x(qNodeCheck[iNode])\n",
    "\n",
    "        # dodajemy\n",
    "        sum3bits(qc, i, qNodeCheck[iNode], qSum)\n",
    "\n",
    "        # reverse\n",
    "        if idx < 0:\n",
    "            qc.x(qNodeCheck[iNode])\n",
    "            if len(control) == 3:\n",
    "                qc.rcccx(control[0], control[1], control[2], qNodeCheck[iNode])\n",
    "            elif len(control) == 5:\n",
    "                qc.rcccccx(control[0], control[1], control[2], control[3], control[4], \n",
    "                          qNodeCheck[iNode],\n",
    "                          qAnc[ancIdx])\n",
    "            else:\n",
    "                print(\"WARNING: the not optimal solution!\")\n",
    "                qc.mcx(control, qNodeCheck[iNode], qAnc, mode='basic')        \n",
    "    if not disable_cycle_opt and len(cycles) > 0:        \n",
    "        qc.rcccx(qReg[cycle[0]], qReg[cycle[1]], qReg[cycle[2]], qAnc[0])\n",
    "    qc.x(qReg)\n",
    "\n",
    "    return qc"
   ]
  },
  {
   "cell_type": "markdown",
   "id": "5afd7b16",
   "metadata": {},
   "source": [
    "**Wyrocznia**\n",
    "\n",
    "Oracle to prasta kompozycja wcześniejszych sumatorów."
   ]
  },
  {
   "cell_type": "code",
   "execution_count": 12,
   "id": "b0cfca98",
   "metadata": {},
   "outputs": [
    {
     "name": "stderr",
     "output_type": "stream",
     "text": [
      "<ipython-input-12-0e8079c8f4e5>:6: DeprecationWarning: The QuantumCircuit.__iadd__() method is being deprecated. Use the compose() (potentially with the inplace=True argument) and tensor() methods which are more flexible w.r.t circuit register compatibility.\n",
      "  oracle_circuit += count_circuit\n",
      "/home/rpracht/anaconda3v02/lib/python3.8/site-packages/qiskit/circuit/quantumcircuit.py:876: DeprecationWarning: The QuantumCircuit.extend() method is being deprecated. Use the compose() (potentially with the inplace=True argument) and tensor() methods which are more flexible w.r.t circuit register compatibility.\n",
      "  return self.extend(rhs)\n"
     ]
    }
   ],
   "source": [
    "count_circuit = create_count_circuit(qReg, qSum)\n",
    "dominating_circuit = create_dominating_circuit_sum(edges, qReg, qDominatingSum, qNodeCheck, qDominatingCountAnc)\n",
    "\n",
    "oracle_circuit = QuantumCircuit(qReg, qAnc)\n",
    "\n",
    "oracle_circuit += count_circuit\n",
    "oracle_circuit += dominating_circuit"
   ]
  },
  {
   "cell_type": "markdown",
   "id": "fef51217",
   "metadata": {},
   "source": [
    "**Operator dyfuzji**"
   ]
  },
  {
   "cell_type": "code",
   "execution_count": 13,
   "id": "1026f2e4",
   "metadata": {},
   "outputs": [],
   "source": [
    "#operator dyfuzji\n",
    "def inversion_about_average(circuit, register, ancilla):\n",
    "    \"\"\"Stosuje operację odbicia względem średniej algorytmu Grovera (Operacja 1).\"\"\"\n",
    "    circuit.h(register)\n",
    "    circuit.x(register)\n",
    "    circuit.h(register[-1])\n",
    "    circuit.mct(register[:-1], register[-1], ancilla, mode='basic')\n",
    "    circuit.h(register[-1])\n",
    "    circuit.x(register)\n",
    "    circuit.h(register)"
   ]
  },
  {
   "cell_type": "markdown",
   "id": "fb4079c4",
   "metadata": {},
   "source": [
    "**Algorymt Grover'a**\n",
    "\n",
    "Jest on standardowy. Sprawdzamy w nim czy mamy 3 oznaczone wierzchołki (011) oraz czy wszystkie wierzchołki są poprawne (001).\n",
    "\n",
    "**UWAGA** Bardzo kuszące jest sprawdzanie tylko qbitów 0 i 2 z wyniku sumatora zliczającego poprawne wierzchołki. Wynika to z faktu iż szukana przez nas suma to 9 czyli b1001. Ponieważ sumowanie wykonywane jest modulo to oczekiwana wartość wynosi b001. Kożystając jednocześnie z faktu iż pierwszy sumator zapewnia nam że co najmniej 3 wierzchołki są oznaczone, wówacz mogą wystąpić tylko takie kombinacje:\n",
    "* 000 - 8 dobrych wierzchołków (0 dobrych wierzchołków nie wystąpi gdyż muszą być co najmiej 3)\n",
    "* 001 - 9 dobrych wierzchołków (1 dobrych wierzchołków nie wystąpi gdyż muszą być co najmiej 3)\n",
    "* 010 - taka suma nie wystąpi dla grafu z 9 wierzchołkami i 3 oznaczonymi\n",
    "* 011 - 3 dobre wierzchołki - sytuacja może wystąpić tylko dla grafu z wyspą 3 wierzchołków połączonych ze sobą i nie połączonych z innymi. Dla większości grafów (w tym dla naszego) algorytm zadziała poprawnie osiągając koszt 14445.\n",
    "* 1xx - pozostale casy\n",
    "\n",
    "Wówczas ignorując case 011 który może wystąpić tylko w przypadku wyspy można sprawdzać tylko czy drugi sumator zwrócił 0x1."
   ]
  },
  {
   "cell_type": "code",
   "execution_count": 14,
   "id": "8a08160e",
   "metadata": {},
   "outputs": [],
   "source": [
    "qcirc.h(qgrover)\n",
    "\n",
    "for _ in range(3):\n",
    "    qcirc += oracle_circuit\n",
    "\n",
    "    # phase kick back\n",
    "    # sprawdź, czy suma wynosi 3 => mamy tylko trzy nadajniki\n",
    "    # sprawdź, czy suma wynosi 9 => wszystkie wierzcholki są ok\n",
    "    qcirc.x(qSum[2])\n",
    "    if wrong_solution:\n",
    "        sumAll = qSum[:3] + [qDominatingSum[2], qDominatingSum[0]]\n",
    "        qcirc.x(qDominatingSum[2])\n",
    "    else:\n",
    "        sumAll = qSum[:3] + qDominatingSum[:3]\n",
    "        qcirc.x(qDominatingSum[1])\n",
    "        qcirc.x(qDominatingSum[2])\n",
    "    \n",
    "    qcirc.h(sumAll[-1])\n",
    "    qcirc.mcx(sumAll[:-1], sumAll[-1], qPhaseAnc, mode='basic')\n",
    "    qcirc.h(sumAll[-1])\n",
    "    \n",
    "    if wrong_solution:\n",
    "        qcirc.x(qDominatingSum[2])\n",
    "    else:\n",
    "        qcirc.x(qDominatingSum[2])\n",
    "        qcirc.x(qDominatingSum[1])\n",
    "    qcirc.x(qSum[2])\n",
    "    \n",
    "\n",
    "    # inv\n",
    "    qcirc += oracle_circuit.inverse()\n",
    "\n",
    "    # diffuse\n",
    "    inversion_about_average(qcirc, qgrover, qAnc[:6])"
   ]
  },
  {
   "cell_type": "code",
   "execution_count": 15,
   "id": "7a161ed2",
   "metadata": {},
   "outputs": [
    {
     "name": "stdout",
     "output_type": "stream",
     "text": [
      "Koszt twojego obwodu wynosi 15042.\n",
      "Gratulacje, twój obwód wygenerował poprawne wyniki pomiaru! Upewnij się, że twój obwód spełnia pozostałe wymogi zadania.\n"
     ]
    }
   ],
   "source": [
    "qcirc.measure(qgrover, cgrover)\n",
    "\n",
    "# weryfikacja rozwiązania\n",
    "cost = grade_circuit(qcirc)\n",
    "\n",
    "qcirc = transpile(qcirc, basis_gates=['u3', 'cx']) \n",
    "qcirc = pm.run(qcirc)\n",
    "qasm = QasmSimulator(seed_simulator=46) # nie zmieniaj wartości seed_simulator!\n",
    "result = qasm.run(qcirc).result().get_counts(qcirc)\n",
    "# print(result)\n",
    "verify_solution4(result)"
   ]
  },
  {
   "cell_type": "markdown",
   "id": "8659dc98",
   "metadata": {},
   "source": [
    "Jeśli Twoje rozwiązanie zostało zaakceptowane przez nasz weryfikator, stwórz i prześlij plik zgłoszeniowy **razem z tym notebookiem uzupełnionym o Twoje rozwiązanie wraz z komentarzami** (łącznie dwa pliki). Z Twoich komentarzy powinno być jasne jak działa Twoje rozwiązanie. Upewnij się, że w `twoje_id` poniżej podałeś/aś swój poprawny identyfikator!\n",
    "\n",
    "Zgłoszeń można dokonać [tutaj](https://ibm.ent.box.com/f/4c9101c0616f4897920a02a67d077321)."
   ]
  },
  {
   "cell_type": "code",
   "execution_count": 16,
   "id": "0f7ac77a",
   "metadata": {},
   "outputs": [
    {
     "name": "stdout",
     "output_type": "stream",
     "text": [
      "Wygenerowaliśmy plik do wysłania o nazwie: zgloszenie_konkursowe.json. Nie zapomnij wysłać notebooka z rozwiązaniem!\n"
     ]
    }
   ],
   "source": [
    "twoje_id = \"8dba80cdf2\"\n",
    "create_submission(qcirc, result, twoje_id)"
   ]
  }
 ],
 "metadata": {
  "kernelspec": {
   "display_name": "Python 3",
   "language": "python",
   "name": "python3"
  },
  "language_info": {
   "codemirror_mode": {
    "name": "ipython",
    "version": 3
   },
   "file_extension": ".py",
   "mimetype": "text/x-python",
   "name": "python",
   "nbconvert_exporter": "python",
   "pygments_lexer": "ipython3",
   "version": "3.8.8"
  }
 },
 "nbformat": 4,
 "nbformat_minor": 5
}
