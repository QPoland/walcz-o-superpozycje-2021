{
 "cells": [
  {
   "cell_type": "markdown",
   "id": "6929f5ad",
   "metadata": {},
   "source": [
    "# Zadanie 4: Użycie algorytmu Grovera do problemu znajdowania zbioru dominującego"
   ]
  },
  {
   "cell_type": "markdown",
   "id": "973f4e09",
   "metadata": {},
   "source": [
    "**Gratulujemy dotrwania do finałowego zadania!**\n",
    "Ostatnie zadanie jest zadaniem konkursowym, czyli koszt obwodu który stworzycie będzie miał bezpośredni wpływ na waszą pozycję w rankingu. Z tego powodu pomoc organizatorów zostanie ograniczona do minimum, głównie do rozwiązywania prostych problemów związanych z oprogramowaniem Qiskit, Pythonem bądź precyzowania reguł zadań.\n",
    "\n",
    "Powodzenia w rozwiązaniu poniższego zadania!"
   ]
  },
  {
   "cell_type": "markdown",
   "id": "fe207d0a",
   "metadata": {},
   "source": [
    "# Zbiór dominujący\n",
    "\n",
    "W poprzednim zadaniu implementowaliśmy algorytm Grovera do znajdowania optymalnego rozwiązania problemu Max-Cut. Innymi słowy, szukaliśmy takiego kolorowania, dla którego liczba krawędzi łączących wierzchołki pokolorowane na dwa różne kolory była możliwie duża.\n",
    "\n",
    "Szukanie najmniejszego _zbioru dominującego_ (ang. *dominating set*) również polega na szukaniu kolorowania wierzchołków, jednak cel jest inny. Zbiorem dominującym nazywamy taki podzbiór wierzchołków, że każdy wierzchołek grafu jest w tym podzbiorze lub sąsiaduje z którymś z wierzchołków z tego podzbioru. Poniżej zaprezentowaliśmy kilka zbiorów dominujących (wyróżnionych kolorem czerwonym):\n",
    "\n",
    "<img src=\"graphics/task4_good_examples.png\" width=800/>\n",
    "\n",
    "Zauważcie, że każdy wierzchołek jest pokolorowany na czerwono lub sąsiaduje z takim wierzchołkiem. Poniżej zaprezentowaliśmy przykłady kolorowania grafów nie dających zbioru dominującego.\n",
    "\n",
    "<img src=\"graphics/task4_bad_examples.png\" width=400/>\n",
    "\n",
    "Wierzchołki wyróżnione niebieskim kwadratem nie są w zbiorze oraz nie sąsiadują z wierzchołkiem ze zbioru.\n",
    "\n",
    "Problem znajdowania zbioru dominującego o najmniejszej liczbie wierzchołków jest trudnym problemem (wręcz NP-trudnym). Jednocześnie problem ten ma dość ważne zastosowanie w praktyce: wyobraźcie sobie, że wierzchołki grafu są powiązane z pewną lokalizacją w mieście i umieszczamy w nich urządzenia mierzące jakieś lokalne parametry (np. niech będą to stacje meteorologiczne). Chcemy, aby bieżące wyniki były przekazywane bezpośrednio do serwera, jednak zamiast wstawiać silny nadajnik przy każdej stacji (co jest kosztowne), możemy wstawić je jedynie przy pewnych wyróżnionych stacjach i przesyłać informacje z pozostałych stacji do sąsiadujących stacji z silnymi nadajnikami. Oczywiście, im mniejsza liczba silnych nadajników tym mniejszy koszt."
   ]
  },
  {
   "cell_type": "markdown",
   "id": "b70f490d",
   "metadata": {},
   "source": [
    "## Zadanie konkursowe\n",
    "\n",
    "W ramach finałowego zadania należy znaleźć możliwe lokalizacje nadajników dla poniższej mapy stacji meteorologicznych. Pamiętaj, że stacja może przesyłać dane najdalej do nadajnika przy stacji, z którą sąsiaduje.\n",
    "\n",
    "<img src=\"graphics/task4.png\" width=400/>\n",
    "\n",
    "Skądinąd wiemy, że wystarczy ustawić dokładnie trzy nadajniki, co więcej, minimum trzy nadajniki są potrzebne do rozwiązania problemu.\n",
    "\n",
    "**Rozwiązanie musi spełniać szereg reguł**:\n",
    "\n",
    "* Skonstruowany obwód nie może składać się z więcej niż 26 kubitów.\n",
    "* Należy użyć algorytmu Grovera, który poznaliście w zadaniu drugim, z trzema iteracjami.\n",
    "* Wynik pomiaru $1$ oznacza, że wierzchołek należy do zbioru dominującego, a wynik $0$, że nie należy.\n",
    "* Zastosuj jedynie jeden 9-bitowy klasyczny rejestr `c`, w którym są zapisywane wyniki pomiaru. W tym celu możecie korzystać z wzorca poniżej.\n",
    "* __Uwaga: można skorzystać z informacji, że szukamy położenia trzech nadajników, jednak jest to jedyna informacja dotycząca rozwiązania, z której można skorzystać__. W szczególności nie można implementować wyroczni poprzez wcześniejsze znalezienie rozwiązania klasycznymi metodami. Pomocnicze pytania: czy algorytm który skonstruowałem będzie działał dla dowolnego grafu nieskierowanego, jeśli będę znał rozmiar zbioru dominującego? Czy korzystam z jakichś nietypowych cech grafu (jest nieregularny, niedwudzielny itp.)? Czy *nie* korzystam z wiedzy jakie jest rozwiązanie? Na wszystkie pytania odpowiedź powinna być nie.\n",
    "* Obwód kwantowy może składać się jedynie z dostępnych w Qiskit bramek kwantowych (`x`, `ccx`, `mct`, `z`, `u3`, etc.) oraz pomiarów. Nie można korzystać z operacji nie będących bramkami, typu `reset`, `c_if`, itp, oraz bramki `unitary`. Jeśli masz wątpliwości co do użytej bramki - zapytaj mentorów.\n",
    "* nie można korzystać z optymalizatorów do obwodów kwantowych, typu opartych na uczeniu maszynowych bądź heurystycznych innych niż `transpile` użyty poniżej. W `transpile` poniżej nie można zmieniać argumentów.\n",
    "* **Jako rozwiązanie należy wysłać plik `zadanie_4.json` wygenerowany przez `create_submission` oraz plik `zadanie_4.ipynb` wraz z odpowiednimi komentarzami opisującymi kroki algorytmu.**\n",
    "\n",
    "<div class=\"alert alert-block alert-danger\">\n",
    "Symulowanie kwantowych obwodów na klasycznym komputerze jest dość czasochłonnym zadaniem - znajdowanie stanu kwantowego może zająć od kilkunastu sekund, do kilkunastu minut. Dlatego prosimy o cierpliwe czekanie na wynik obliczeń w przypadku wysyłania ich do symulatora IBM, gdyż umieszczenie kilku obliczeń jednocześnie na serwerze (szczególnie przy wielu użytkownikach) może bardzo szybko przeciążyć serwer.\n",
    "</div>\n",
    "\n",
    "**Skorzystaj z poniższego wzorca.**"
   ]
  },
  {
   "cell_type": "code",
   "execution_count": null,
   "id": "da05b710",
   "metadata": {},
   "outputs": [],
   "source": [
    "from qiskit import *\n",
    "from qiskit.providers.aer import QasmSimulator\n",
    "from qiskit.transpiler import PassManager\n",
    "from qiskit.transpiler.passes import Unroller\n",
    "from bnp_challenge_verifier import grade_circuit, verify_solution4, create_submission\n",
    "pass_ = Unroller(['u3', 'cx'])\n",
    "pm = PassManager(pass_) \n",
    "\n",
    "qgrover = QuantumRegister(9)\n",
    "cgrover = ClassicalRegister(9)\n",
    "qcirc = QuantumCircuit(qgrover, cgrover) # możesz oczywiście dodać inne rejestry kwantowe\n",
    "\n",
    "#\n",
    "# tutaj stwórz obwód\n",
    "#\n",
    "\n",
    "qcirc.measure(qgrover, cgrover)\n",
    "\n",
    "# weryfikacja rozwiązania\n",
    "cost = grade_circuit(qcirc)\n",
    "\n",
    "qcirc = transpile(qcirc, basis_gates=['u3', 'cx']) \n",
    "qcirc = pm.run(qcirc)\n",
    "qasm = QasmSimulator(seed_simulator=46) # nie zmieniaj wartości seed_simulator!\n",
    "result = qasm.run(qcirc).result().get_counts(qcirc)\n",
    "# print(result)\n",
    "verify_solution4(result)"
   ]
  },
  {
   "cell_type": "markdown",
   "id": "da4a1516",
   "metadata": {},
   "source": [
    "Jeśli Twoje rozwiązanie zostało zaakceptowane przez nasz weryfikator, stwórz i prześlij plik zgłoszeniowy **razem z tym notebookiem uzupełnionym o twoj rozwiązanie wraz z komentarzemai** (łącznie dwa pliki). Upewnij się, że w `twoje_id` poniżej podałeś/aś swój poprawny identyfikator!\n",
    "\n",
    "Zgłoszeń można dokonać [tutaj](https://ibm.ent.box.com/f/4c9101c0616f4897920a02a67d077321)."
   ]
  },
  {
   "cell_type": "code",
   "execution_count": null,
   "id": "8819f94d",
   "metadata": {},
   "outputs": [],
   "source": [
    "twoje_id = \"\"\n",
    "create_submission(qcirc, result, twoje_id)"
   ]
  }
 ],
 "metadata": {
  "kernelspec": {
   "display_name": "Python 3",
   "language": "python",
   "name": "python3"
  },
  "language_info": {
   "codemirror_mode": {
    "name": "ipython",
    "version": 3
   },
   "file_extension": ".py",
   "mimetype": "text/x-python",
   "name": "python",
   "nbconvert_exporter": "python",
   "pygments_lexer": "ipython3",
   "version": "3.9.5"
  }
 },
 "nbformat": 4,
 "nbformat_minor": 5
}
